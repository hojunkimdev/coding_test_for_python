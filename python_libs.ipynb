{
  "nbformat": 4,
  "nbformat_minor": 0,
  "metadata": {
    "colab": {
      "name": "python_libs.ipynb",
      "provenance": [],
      "toc_visible": true,
      "authorship_tag": "ABX9TyOeY7SXZGxODqHrCysmxROQ",
      "include_colab_link": true
    },
    "kernelspec": {
      "name": "python3",
      "display_name": "Python 3"
    },
    "language_info": {
      "name": "python"
    }
  },
  "cells": [
    {
      "cell_type": "markdown",
      "metadata": {
        "id": "view-in-github",
        "colab_type": "text"
      },
      "source": [
        "<a href=\"https://colab.research.google.com/github/hojunkimdev/coding_test_for_python/blob/master/python_libs.ipynb\" target=\"_parent\"><img src=\"https://colab.research.google.com/assets/colab-badge.svg\" alt=\"Open In Colab\"/></a>"
      ]
    },
    {
      "cell_type": "markdown",
      "source": [
        "# *heapq*"
      ],
      "metadata": {
        "id": "kImIHH-x_09Q"
      }
    },
    {
      "cell_type": "markdown",
      "source": [
        "- 힙을 활용한 우선순위 큐 기능을 구현할 때 사용\n",
        "- 완전 이진트리 기반의 min heap 자료구조 (O(NlogN)의 오름차순 정렬 제공)\n",
        "- PriorityQueue 라이브러리가 따로 있지만, heapq가 더 빠름\n",
        "- Functions\n",
        "  - heapq.heappush(heap, 4): 원소 삽입\n",
        "  - heapq.heappop(heap): 맨앞 원소 꺼내기\n",
        "  - heapq.heapfiy(existing_list): 기존 리스트 힙 변환"
      ],
      "metadata": {
        "id": "RUinG3qTinhS"
      }
    },
    {
      "cell_type": "code",
      "source": [
        "# import, create, push, pop\n",
        "import heapq\n",
        "\n",
        "# 빈 리스트\n",
        "heap = []\n",
        "heapq.heappush(heap, 4)\n",
        "heapq.heappush(heap, 1)\n",
        "heapq.heappush(heap, 7)\n",
        "heapq.heappush(heap, 3)\n",
        "print(f'[push 결과] {heap}')\n",
        "print(f'[pop 결과] return: {heapq.heappop(heap)}, after pop: {heap}')\n",
        "print(f'[삭제 없이 접근] {heap[0]}, {heap[1]}, {heap[2]}')\n",
        "\n",
        "# 기존 리스트 활용\n",
        "heap = [4, 1, 7, 3, 8, 5]\n",
        "heapq.heapify(heap)\n",
        "print(f'[기존 리스트 힙 변환] {heap}')\n",
        "\n",
        "# 최대 힙\n",
        "nums = [4, 1, 7, 3, 8, 5]\n",
        "heap = []\n",
        "for num in nums:\n",
        "  heapq.heappush(heap, (-num, num))  # (우선 순위, 값)\n",
        "\n",
        "print(f'[최대 힙] 전체: {heap}, 값 접근: {heap[0][1]} {heap[1][1]}')\n",
        "print('[최대 힙 순환] ', end=\"\")\n",
        "while heap:\n",
        "  print(f' {heapq.heappop(heap)[1]} ', end=\"\")  # index 1\n",
        "print()\n",
        "\n",
        "# k 번째 최소 값\n",
        "def kth_smallest(nums, k):\n",
        "  heap = []\n",
        "  for num in nums:\n",
        "    heapq.heappush(heap, num)\n",
        "\n",
        "  kth_min = None\n",
        "  for _ in range(k):\n",
        "    kth_min = heapq.heappop(heap)\n",
        "  return kth_min\n",
        "\n",
        "print(f'[k 번째 최소 값] {kth_smallest([4, 1, 7, 3, 8, 5], 3)}')"
      ],
      "metadata": {
        "colab": {
          "base_uri": "https://localhost:8080/"
        },
        "id": "UmpCJdDxfzXz",
        "outputId": "1db0e8db-11cb-466e-b218-cfa8e38dbe5f"
      },
      "execution_count": 32,
      "outputs": [
        {
          "output_type": "stream",
          "name": "stdout",
          "text": [
            "[push 결과] [1, 3, 7, 4]\n",
            "[pop 결과] return: 1, after pop: [3, 4, 7]\n",
            "[삭제 없이 접근] 3, 4, 7\n",
            "[기존 리스트 힙 변환] [1, 3, 5, 4, 8, 7]\n",
            "[최대 힙] 전체: [(-8, 8), (-7, 7), (-5, 5), (-1, 1), (-3, 3), (-4, 4)], 값 접근: 8 7\n",
            "[최대 힙 순환]  8  7  5  4  3  1 \n",
            "[k 번째 최소 값] 4\n"
          ]
        }
      ]
    },
    {
      "cell_type": "markdown",
      "source": [
        "# bisect (이진 탐색)"
      ],
      "metadata": {
        "id": "R9r1dQmEnhxZ"
      }
    },
    {
      "cell_type": "markdown",
      "source": [
        "- 이진 탐색 lib\n",
        "- '정렬된 리스트'에서 해당 작업에 매우 효과적\n",
        "  1. 특정한 원소를 찾아야 할 때 (정렬 상태를 유지하면서 삽입할 때)\n",
        "  2. 특정 범위에 속하는 원소의 카운팅\n",
        "- O(logN)에 정렬된 배열에 맞는 위치를 찾아준다.\n",
        "- Functions\n",
        "  - bisect_left(a, x): 리스트 a에 데이터 x를 삽입할 가장 왼쪽 인덱스 return (정렬된 순서를 유지)\n",
        "  - bisect_right(a, x): 리스트 a에서 데이터 x를 삽입할 가장 오른쪽 인덱스 return (정렬된 순서를 유지)"
      ],
      "metadata": {
        "id": "m6y1vwz1rX2U"
      }
    },
    {
      "cell_type": "code",
      "source": [
        "from bisect import bisect_left, bisect_right\n",
        "\n",
        "a = [1, 2, 4, 4, 8]\n",
        "x = 4\n",
        "\n",
        "print(f'[bisect_left (get idx)] {bisect_left(a, x)}')\n",
        "print(f'[bisect_right (get idx)] {bisect_right(a, x)}')\n",
        "\n",
        "# 값이 [left_value, right_value]인 데이터의 개수를 반환하는 함수\n",
        "def count_by_range(a, left_value, right_value):\n",
        "    right_index = bisect_right(a, right_value)\n",
        "    left_index = bisect_left(a, left_value)\n",
        "    return right_index - left_index\n",
        "    \n",
        "a = [1, 2, 3, 3, 3, 3, 4, 4, 8, 9]\n",
        "\n",
        "# 값이 4인 데이터 개수 출력\n",
        "print(f'[count_by_range(a, 4, 4)] {count_by_range(a, 4, 4)}')\n",
        "\n",
        "# 값이 [-1, 3] 범위에 있는 데이터 개수 출력\n",
        "print(f'[count_by_range(a, -1, 3)] {count_by_range(a, -1, 3)}')"
      ],
      "metadata": {
        "id": "CzMk5lyPrYct"
      },
      "execution_count": null,
      "outputs": []
    },
    {
      "cell_type": "markdown",
      "source": [
        "# Counter - collections"
      ],
      "metadata": {
        "id": "wHiPOb1vfpfI"
      }
    },
    {
      "cell_type": "markdown",
      "source": [
        "- iterable(list)의 각 key마다 등장횟수를 counting한 dict 생성 {원소(n): 등장횟수(n)}"
      ],
      "metadata": {
        "id": "npWvEJ1MlZSs"
      }
    },
    {
      "cell_type": "code",
      "source": [
        "from collections import Counter\n",
        "\n",
        "c = Counter('abbcccdddd')\n",
        "print(f'[init counter] {c}')\n",
        "print(f'[dict 변환해야] {dict(c)}')\n",
        "print(f'[개수로 오름차순 정렬된 list] {c.most_common()}')"
      ],
      "metadata": {
        "colab": {
          "base_uri": "https://localhost:8080/"
        },
        "id": "myoFAL_Kgw7I",
        "outputId": "b684c2c0-053f-4d50-cd4b-7e536c431f05"
      },
      "execution_count": 72,
      "outputs": [
        {
          "output_type": "stream",
          "name": "stdout",
          "text": [
            "[init counter] Counter({'d': 4, 'c': 3, 'b': 2, 'a': 1})\n",
            "[dict 변환해야] {'a': 1, 'b': 2, 'c': 3, 'd': 4}\n",
            "[개수로 오름차순 정렬된 list] [('d', 4), ('c', 3), ('b', 2), ('a', 1)]\n"
          ]
        }
      ]
    },
    {
      "cell_type": "markdown",
      "source": [
        "# deque (queue) - collections"
      ],
      "metadata": {
        "id": "EWq39dGTfn3F"
      }
    },
    {
      "cell_type": "markdown",
      "source": [
        "- Queue 기능을 하는 자료구조\n",
        "- list 보다 삽입/제거가 빠름 (list.pop(0) --> 0(n), deque.popleft(): O(1))\n",
        "- 리스트와 다르게 인덱싱, 슬라이싱 등의 기능은 사용할 수 없음\n",
        "- Functions\n",
        "  - appendleft(v) : 첫 번째 원소 삽입\n",
        "  - append(v) : 마지막 원소 삽입\n",
        "  - popleft() : 첫 번째 원소 제거\n",
        "  - pop() : 마지막 원소 제거"
      ],
      "metadata": {
        "id": "eu8lh3iOrudQ"
      }
    },
    {
      "cell_type": "code",
      "source": [
        "from collections import deque\n",
        "\n",
        "data = deque([2, 3, 4])\n",
        "data.appendleft(1)\n",
        "data.append(5)\n",
        "\n",
        "print(f'[Init deque] {data}')\n",
        "print(f'[값 접근] {data[0]}, {data[1]}')\n",
        "print(f'[popleft] {data.popleft()}, after: {data}')\n",
        "print(f'[pop] {data.pop()}, after: {data}')\n",
        "print(f'[list 변환] {list(data)}')"
      ],
      "metadata": {
        "id": "tcetIOtKrvC0"
      },
      "execution_count": null,
      "outputs": []
    },
    {
      "cell_type": "markdown",
      "source": [
        "# permutations, combinations - itertools"
      ],
      "metadata": {
        "id": "Odm2VFCqr9Xq"
      }
    },
    {
      "cell_type": "markdown",
      "source": [
        "- 순열(permutations): r개의 데이터를 뽑아 나열하는 모든 경우\n",
        "- 중복 순열(products): permutations에서 중복 경우도 추가 \n",
        "- 조합(combinations): r개의 데이터를 뽑아 순서를 고려하지 않고 나열하는 모든 경우\n",
        "- 중복 조합(combinations_with_replacement): combinations에서 중복 경우도 추가\n",
        "- Functions\n",
        "  - permutation(list, r)\n",
        "  - product(list, r)\n",
        "  - combinations(list, r)\n",
        "  - permutation(list, r)\n"
      ],
      "metadata": {
        "id": "o9rGDCg8sGRs"
      }
    },
    {
      "cell_type": "code",
      "source": [
        "from itertools import permutations\n",
        "from itertools import product\n",
        "from itertools import combinations\n",
        "from itertools import combinations_with_replacement\n",
        "\n",
        "data = [\"A\", \"B\", \"C\"]\n",
        "per = list(permutations(data, len(data))) # 모든 순열 구하기\n",
        "pro = list(product(data, repeat=2)) # 2개를 뽑는 모든 순열 구하기(중복 허용)\n",
        "com = list(combinations(data, 2)) # 2개를 뽑는 모든 조합 구하기\n",
        "com_with = list(combinations_with_replacement(data, 2)) # 2개를 뽑는 모든 조합 구하기(중복허용)\n",
        "\n",
        "print(f'[permutations] {per}')\n",
        "print(f'[product] {pro}')\n",
        "print(f'[combinations] {com}')\n",
        "print(f'[combinations_with_replacement] {com_with}')"
      ],
      "metadata": {
        "colab": {
          "base_uri": "https://localhost:8080/"
        },
        "id": "4CONuKOCsGip",
        "outputId": "eb0105bc-90a6-4578-ae76-d8a9d5467c75"
      },
      "execution_count": 78,
      "outputs": [
        {
          "output_type": "stream",
          "name": "stdout",
          "text": [
            "[permutations] [('A', 'B', 'C'), ('A', 'C', 'B'), ('B', 'A', 'C'), ('B', 'C', 'A'), ('C', 'A', 'B'), ('C', 'B', 'A')]\n",
            "[product] [('A', 'A'), ('A', 'B'), ('A', 'C'), ('B', 'A'), ('B', 'B'), ('B', 'C'), ('C', 'A'), ('C', 'B'), ('C', 'C')]\n",
            "[combinations] [('A', 'B'), ('A', 'C'), ('B', 'C')]\n",
            "[combinations_with_replacement] [('A', 'A'), ('A', 'B'), ('A', 'C'), ('B', 'B'), ('B', 'C'), ('C', 'C')]\n"
          ]
        }
      ]
    },
    {
      "cell_type": "markdown",
      "source": [
        "# 새 섹션"
      ],
      "metadata": {
        "id": "kqm2KdjbyLMW"
      }
    },
    {
      "cell_type": "markdown",
      "source": [
        "# math"
      ],
      "metadata": {
        "id": "dhRUHvaQnhiE"
      }
    },
    {
      "cell_type": "markdown",
      "source": [
        "- 팩토리얼, 제곱근, 최대공약수(GCD) 등\n",
        "- Funcitons\n",
        "  - math.factorial(): 팩토리얼\n",
        "  - math.sqrt(): 제곱근\n",
        "  - math.gcd() : 최대공약수\n",
        "  - math.pi: 파이\n",
        "  - math.e: 자연상수"
      ],
      "metadata": {
        "id": "-ZXr3Avcy3Ze"
      }
    },
    {
      "cell_type": "code",
      "source": [
        "import math\n",
        "\n",
        "print(math.factorial(5)) # 120\n",
        "\n",
        "print(math.sqrt(7)) # 2.6457513110645907\n",
        "\n",
        "print(math.gcd(21, 14)) # 7\n",
        "\n",
        "print(math.pi) # 3.141592653589793\n",
        "\n",
        "print(math.e) # 2.718281828459045"
      ],
      "metadata": {
        "id": "NonXDeQBy3hb"
      },
      "execution_count": null,
      "outputs": []
    },
    {
      "cell_type": "markdown",
      "source": [
        "# sorted"
      ],
      "metadata": {
        "id": "iP7DdrNAniEw"
      }
    },
    {
      "cell_type": "markdown",
      "source": [
        ""
      ],
      "metadata": {
        "id": "8cVGhCN1y-aX"
      }
    },
    {
      "cell_type": "code",
      "source": [
        "#str\n",
        "str_ = sorted(\"dcba\")\n",
        "str_v = sorted(['acc','abb', 'aaa'], key=lambda x:x[1])\n",
        "\n",
        "#list\n",
        "list1 = sorted([5,2,1,3,4]) # [\"1\",\"2\",\"3\",\"4\",\"5\"]\n",
        "list2 = sorted([[2,1,3],[3,2,1],[1,2,3]]) # [[1, 2, 3], [2, 1, 3], [3, 2, 1]]\n",
        "\n",
        "#set\n",
        "set_ = sorted({3,2,1}) # [1,2,3]\n",
        "\n",
        "#tuple\n",
        "tuple_ = sorted((3,2,1)) # [1,2,3]\n",
        "\n",
        "#dict - key sort\n",
        "dict_key = sorted({3:300,2:200,1:100}) # [1,2,3]\n",
        "\n",
        "#dict - value sort\n",
        "dict_v = sorted({3:300,2:200,1:100}.items(), key=lambda x:x[1])\n",
        "\n",
        "print(f'[str] {str_}')\n",
        "print(f'[str-lambda] {str_v}')\n",
        "print(f'[list1] {list1}')\n",
        "print(f'[list2] {list2}')\n",
        "print(f'[set_] {set_}')\n",
        "print(f'[tuple_] {tuple_}')\n",
        "print(f'[dict_key] {dict_key}')\n",
        "print(f'[dict_v] {dict_v}')"
      ],
      "metadata": {
        "colab": {
          "base_uri": "https://localhost:8080/"
        },
        "id": "GR3Ngh5jy-hq",
        "outputId": "2138db67-384a-4c44-907f-e58da6340376"
      },
      "execution_count": 88,
      "outputs": [
        {
          "output_type": "stream",
          "name": "stdout",
          "text": [
            "[str] ['a', 'b', 'c', 'd']\n",
            "[str-lambda] ['aaa', 'abb', 'acc']\n",
            "[list1] [1, 2, 3, 4, 5]\n",
            "[list2] [[1, 2, 3], [2, 1, 3], [3, 2, 1]]\n",
            "[set_] [1, 2, 3]\n",
            "[tuple_] [1, 2, 3]\n",
            "[dict_key] [1, 2, 3]\n",
            "[dict_v] [(1, 100), (2, 200), (3, 300)]\n"
          ]
        }
      ]
    }
  ]
}